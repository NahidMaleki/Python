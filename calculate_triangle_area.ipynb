{
  "nbformat": 4,
  "nbformat_minor": 0,
  "metadata": {
    "colab": {
      "provenance": [],
      "authorship_tag": "ABX9TyO1vZyHOJihZkkoRjntLzND",
      "include_colab_link": true
    },
    "kernelspec": {
      "name": "python3",
      "display_name": "Python 3"
    },
    "language_info": {
      "name": "python"
    }
  },
  "cells": [
    {
      "cell_type": "markdown",
      "metadata": {
        "id": "view-in-github",
        "colab_type": "text"
      },
      "source": [
        "<a href=\"https://colab.research.google.com/github/NahidMaleki/Python/blob/main/calculate_triangle_area.ipynb\" target=\"_parent\"><img src=\"https://colab.research.google.com/assets/colab-badge.svg\" alt=\"Open In Colab\"/></a>"
      ]
    },
    {
      "cell_type": "code",
      "source": [
        "# Function to calculate the area of triangle\n",
        "def calculate_triangle_area(base, height):\n",
        "  return base*height*0.5\n",
        "\n",
        "# Main program\n",
        "def main():\n",
        "  print(\"Calculate the area of a triangle\")\n",
        "\n",
        "  # Input: Base and Height\n",
        "  try:\n",
        "    base = float(input(\"Enter the base of the triangle: \"))\n",
        "    height = float(input(\"Enter the height of the triangle: \"))\n",
        "\n",
        "    # Calculate area\n",
        "    area = calculate_triangle_area(base, height)\n",
        "\n",
        "    # Output: Area\n",
        "    print(f\"The area of the triangle with base {base} and height {height} is: {area}\")\n",
        "\n",
        "  except ValueError:\n",
        "    print(\"Please enter valid numbers for base and height.\")\n",
        "\n",
        "# Run the program\n",
        "if __name__ == \"__main__\":\n",
        "  main()"
      ],
      "metadata": {
        "colab": {
          "base_uri": "https://localhost:8080/"
        },
        "id": "b1hAqZdJEcYo",
        "outputId": "cf50985a-f4a6-4bbd-a430-8008740d4f44"
      },
      "execution_count": 3,
      "outputs": [
        {
          "output_type": "stream",
          "name": "stdout",
          "text": [
            "Calculate the area of a triangle\n",
            "Enter the base of the triangle: 35\n",
            "Enter the height of the triangle: 46\n",
            "The area of the triangle with base 35.0 and height 46.0 is: 805.0\n"
          ]
        }
      ]
    }
  ]
}