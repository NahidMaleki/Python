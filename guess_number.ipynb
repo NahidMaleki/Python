{
  "nbformat": 4,
  "nbformat_minor": 0,
  "metadata": {
    "colab": {
      "provenance": [],
      "authorship_tag": "ABX9TyP/SJXZhAhKHyONhDejCByF",
      "include_colab_link": true
    },
    "kernelspec": {
      "name": "python3",
      "display_name": "Python 3"
    },
    "language_info": {
      "name": "python"
    }
  },
  "cells": [
    {
      "cell_type": "markdown",
      "metadata": {
        "id": "view-in-github",
        "colab_type": "text"
      },
      "source": [
        "<a href=\"https://colab.research.google.com/github/NahidMaleki/Python/blob/main/guess_number.ipynb\" target=\"_parent\"><img src=\"https://colab.research.google.com/assets/colab-badge.svg\" alt=\"Open In Colab\"/></a>"
      ]
    },
    {
      "cell_type": "markdown",
      "source": [
        "##Guessing Number Game from Scratch\n",
        "This game will randomly select a number within a specified range, and the player will have to guess it. The game will provide feedback on whether the guess is too high, too low, or correct."
      ],
      "metadata": {
        "id": "qEGzh9doMJ9q"
      }
    },
    {
      "cell_type": "code",
      "source": [
        "import random"
      ],
      "metadata": {
        "id": "1NI5WTp1Onk2"
      },
      "execution_count": 1,
      "outputs": []
    },
    {
      "cell_type": "code",
      "source": [
        "def guessing_number_game():\n",
        "    print(\"Welcome to the Guessing Number Game!\")\n",
        "\n",
        "    # Set the range for the random number\n",
        "    lower_bound = 1\n",
        "    upper_bound = 100\n",
        "    secret_number = random.randint(lower_bound, upper_bound)\n",
        "\n",
        "    attempts = 0\n",
        "    guessed = False\n",
        "\n",
        "    print(f\"I have selected a number between {lower_bound} and {upper_bound}. Can you guess it?\")\n",
        "\n",
        "    while not guessed:\n",
        "        try:\n",
        "            # Get user input\n",
        "            guess = int(input(\"Enter your guess: \"))\n",
        "            attempts += 1\n",
        "\n",
        "            if guess < lower_bound or guess > upper_bound:\n",
        "                print(f\"Please guess a number between {lower_bound} and {upper_bound}.\")\n",
        "                continue\n",
        "\n",
        "            if guess < secret_number:\n",
        "                print(\"Too low! Try again.\")\n",
        "            elif guess > secret_number:\n",
        "                print(\"Too high! Try again.\")\n",
        "            else:\n",
        "                guessed = True\n",
        "                print(f\"Congratulations! You've guessed the number {secret_number} in {attempts} attempts.\")\n",
        "\n",
        "        except ValueError:\n",
        "            print(\"Invalid input. Please enter an integer.\")\n",
        "\n",
        "if __name__ == \"__main__\":\n",
        "    guessing_number_game()"
      ],
      "metadata": {
        "colab": {
          "base_uri": "https://localhost:8080/"
        },
        "id": "bPJmjQeCqiwl",
        "outputId": "7d6797cd-2ba3-4e3a-f71e-fd214675e7a8"
      },
      "execution_count": 6,
      "outputs": [
        {
          "output_type": "stream",
          "name": "stdout",
          "text": [
            "Welcome to the Guessing Number Game!\n",
            "I have selected a number between 1 and 100. Can you guess it?\n",
            "Enter your guess: 40\n",
            "Too low! Try again.\n",
            "Enter your guess: 60\n",
            "Too high! Try again.\n",
            "Enter your guess: 50\n",
            "Too high! Try again.\n",
            "Enter your guess: 45\n",
            "Too high! Try again.\n",
            "Enter your guess: 43\n",
            "Too high! Try again.\n",
            "Enter your guess: 42\n",
            "Too high! Try again.\n",
            "Enter your guess: 41\n",
            "Congratulations! You've guessed the number 41 in 7 attempts.\n"
          ]
        }
      ]
    }
  ]
}